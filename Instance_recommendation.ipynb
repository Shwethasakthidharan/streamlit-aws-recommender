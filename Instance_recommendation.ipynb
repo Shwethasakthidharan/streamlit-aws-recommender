{
  "nbformat": 4,
  "nbformat_minor": 0,
  "metadata": {
    "colab": {
      "provenance": []
    },
    "kernelspec": {
      "name": "python3",
      "display_name": "Python 3"
    },
    "language_info": {
      "name": "python"
    }
  },
  "cells": [
    {
      "cell_type": "code",
      "execution_count": 1,
      "metadata": {
        "colab": {
          "base_uri": "https://localhost:8080/"
        },
        "id": "AAc229j5bobC",
        "outputId": "fb0477d4-21f1-4647-e1af-f04ce07018e1"
      },
      "outputs": [
        {
          "output_type": "stream",
          "name": "stdout",
          "text": [
            "Mounted at /content/drive\n"
          ]
        }
      ],
      "source": [
        "from google.colab import drive\n",
        "drive.mount('/content/drive')"
      ]
    },
    {
      "cell_type": "code",
      "source": [
        "!pip install pandas numpy ijson gdown"
      ],
      "metadata": {
        "colab": {
          "base_uri": "https://localhost:8080/"
        },
        "id": "5K1aDed5cVa5",
        "outputId": "a92f2d95-8a57-49ff-cd4b-a405f20760ae"
      },
      "execution_count": 2,
      "outputs": [
        {
          "output_type": "stream",
          "name": "stdout",
          "text": [
            "Requirement already satisfied: pandas in /usr/local/lib/python3.11/dist-packages (2.2.2)\n",
            "Requirement already satisfied: numpy in /usr/local/lib/python3.11/dist-packages (2.0.2)\n",
            "Collecting ijson\n",
            "  Downloading ijson-3.3.0-cp311-cp311-manylinux_2_17_x86_64.manylinux2014_x86_64.whl.metadata (21 kB)\n",
            "Requirement already satisfied: gdown in /usr/local/lib/python3.11/dist-packages (5.2.0)\n",
            "Requirement already satisfied: python-dateutil>=2.8.2 in /usr/local/lib/python3.11/dist-packages (from pandas) (2.8.2)\n",
            "Requirement already satisfied: pytz>=2020.1 in /usr/local/lib/python3.11/dist-packages (from pandas) (2025.1)\n",
            "Requirement already satisfied: tzdata>=2022.7 in /usr/local/lib/python3.11/dist-packages (from pandas) (2025.1)\n",
            "Requirement already satisfied: beautifulsoup4 in /usr/local/lib/python3.11/dist-packages (from gdown) (4.13.3)\n",
            "Requirement already satisfied: filelock in /usr/local/lib/python3.11/dist-packages (from gdown) (3.18.0)\n",
            "Requirement already satisfied: requests[socks] in /usr/local/lib/python3.11/dist-packages (from gdown) (2.32.3)\n",
            "Requirement already satisfied: tqdm in /usr/local/lib/python3.11/dist-packages (from gdown) (4.67.1)\n",
            "Requirement already satisfied: six>=1.5 in /usr/local/lib/python3.11/dist-packages (from python-dateutil>=2.8.2->pandas) (1.17.0)\n",
            "Requirement already satisfied: soupsieve>1.2 in /usr/local/lib/python3.11/dist-packages (from beautifulsoup4->gdown) (2.6)\n",
            "Requirement already satisfied: typing-extensions>=4.0.0 in /usr/local/lib/python3.11/dist-packages (from beautifulsoup4->gdown) (4.12.2)\n",
            "Requirement already satisfied: charset-normalizer<4,>=2 in /usr/local/lib/python3.11/dist-packages (from requests[socks]->gdown) (3.4.1)\n",
            "Requirement already satisfied: idna<4,>=2.5 in /usr/local/lib/python3.11/dist-packages (from requests[socks]->gdown) (3.10)\n",
            "Requirement already satisfied: urllib3<3,>=1.21.1 in /usr/local/lib/python3.11/dist-packages (from requests[socks]->gdown) (2.3.0)\n",
            "Requirement already satisfied: certifi>=2017.4.17 in /usr/local/lib/python3.11/dist-packages (from requests[socks]->gdown) (2025.1.31)\n",
            "Requirement already satisfied: PySocks!=1.5.7,>=1.5.6 in /usr/local/lib/python3.11/dist-packages (from requests[socks]->gdown) (1.7.1)\n",
            "Downloading ijson-3.3.0-cp311-cp311-manylinux_2_17_x86_64.manylinux2014_x86_64.whl (119 kB)\n",
            "\u001b[2K   \u001b[90m━━━━━━━━━━━━━━━━━━━━━━━━━━━━━━━━━━━━━━━━\u001b[0m \u001b[32m119.2/119.2 kB\u001b[0m \u001b[31m8.3 MB/s\u001b[0m eta \u001b[36m0:00:00\u001b[0m\n",
            "\u001b[?25hInstalling collected packages: ijson\n",
            "Successfully installed ijson-3.3.0\n"
          ]
        }
      ]
    },
    {
      "cell_type": "code",
      "source": [
        "import pandas as pd\n",
        "import numpy as np\n",
        "import ijson\n",
        "import json\n",
        "import gdown"
      ],
      "metadata": {
        "id": "1nkmWNbzeIId"
      },
      "execution_count": 3,
      "outputs": []
    },
    {
      "cell_type": "code",
      "source": [
        "# Download AWS pricing data\n",
        "file_id = \"1AaO3guRQvvWl-OQr1HgoCowL84pLaVDH\"  # Replace with your file ID\n",
        "output_path = \"/content/aws_pricing.json\"\n",
        "gdown.download(f\"https://drive.google.com/uc?id={file_id}\", output_path, quiet=False)"
      ],
      "metadata": {
        "colab": {
          "base_uri": "https://localhost:8080/",
          "height": 122
        },
        "id": "rmCM3A3veOSl",
        "outputId": "648922d5-3359-4d6a-9338-b055da8672d4"
      },
      "execution_count": 4,
      "outputs": [
        {
          "output_type": "stream",
          "name": "stderr",
          "text": [
            "Downloading...\n",
            "From (original): https://drive.google.com/uc?id=1AaO3guRQvvWl-OQr1HgoCowL84pLaVDH\n",
            "From (redirected): https://drive.google.com/uc?id=1AaO3guRQvvWl-OQr1HgoCowL84pLaVDH&confirm=t&uuid=d1d456d9-417a-4a23-a7d1-39defe512af6\n",
            "To: /content/aws_pricing.json\n",
            "100%|██████████| 6.59G/6.59G [01:17<00:00, 85.0MB/s]\n"
          ]
        },
        {
          "output_type": "execute_result",
          "data": {
            "text/plain": [
              "'/content/aws_pricing.json'"
            ],
            "application/vnd.google.colaboratory.intrinsic+json": {
              "type": "string"
            }
          },
          "metadata": {},
          "execution_count": 4
        }
      ]
    },
    {
      "cell_type": "code",
      "source": [
        "# Define target region\n",
        "target_region = \"Asia Pacific (Malaysia)\"\n",
        "\n",
        "# Extract relevant fields\n",
        "fields = [\"sku\", \"instanceType\", \"vcpu\", \"memory\", \"storage\", \"operatingSystem\", \"marketoption\", \"regionCode\"]\n",
        "\n",
        "# Filter pricing data\n",
        "filtered_data = []\n",
        "\n",
        "with open(\"/content/aws_pricing.json\", \"r\", encoding=\"utf-8\") as f:\n",
        "    products = ijson.kvitems(f, \"products\")  # Stream through \"products\"\n",
        "\n",
        "    for product_id, product in products:\n",
        "        attributes = product.get(\"attributes\", {})\n",
        "        if attributes.get(\"location\") == target_region:\n",
        "            row = {field: attributes.get(field, \"N/A\") for field in fields}\n",
        "            filtered_data.append(row)\n",
        "\n",
        "# Save filtered data to CSV\n",
        "filtered_df = pd.DataFrame(filtered_data)\n",
        "filtered_df.to_csv(\"/content/drive/MyDrive/aws_pricing_filtered.csv\", index=False)\n",
        "\n",
        "print(f\" Extracted {len(filtered_data)} instances in {target_region}\")\n",
        "print(filtered_df.head())"
      ],
      "metadata": {
        "colab": {
          "base_uri": "https://localhost:8080/"
        },
        "id": "zCFRQogqfBcZ",
        "outputId": "988c29d4-3440-458a-966d-a8a434864458"
      },
      "execution_count": 5,
      "outputs": [
        {
          "output_type": "stream",
          "name": "stdout",
          "text": [
            " Extracted 20631 instances in Asia Pacific (Malaysia)\n",
            "   sku instanceType vcpu   memory              storage  \\\n",
            "0  N/A  c7gd.medium    1    2 GiB      1 x 59 NVMe SSD   \n",
            "1  N/A    m7i.large    2    8 GiB             EBS only   \n",
            "2  N/A  m7gd.xlarge    4   16 GiB     1 x 237 NVMe SSD   \n",
            "3  N/A  c7i.4xlarge   16   32 GiB             EBS only   \n",
            "4  N/A  g6.16xlarge   64  256 GiB  2 x 940 GB NVMe SSD   \n",
            "\n",
            "                    operatingSystem marketoption      regionCode  \n",
            "0                              RHEL     OnDemand  ap-southeast-5  \n",
            "1  Red Hat Enterprise Linux with HA     OnDemand  ap-southeast-5  \n",
            "2                             Linux     OnDemand  ap-southeast-5  \n",
            "3                              SUSE     OnDemand  ap-southeast-5  \n",
            "4  Red Hat Enterprise Linux with HA     OnDemand  ap-southeast-5  \n"
          ]
        }
      ]
    },
    {
      "cell_type": "code",
      "source": [
        "filtered_df = pd.read_csv(\"/content/drive/MyDrive/aws_pricing_filtered.csv\")"
      ],
      "metadata": {
        "id": "UQ_nruVm8zPX"
      },
      "execution_count": 6,
      "outputs": []
    },
    {
      "cell_type": "code",
      "source": [
        "def fetch_instance_details(instance_type, region, pricing_df):\n",
        "    \"\"\"\n",
        "    Fetch details for a specific instance type and region from the pricing data.\n",
        "    \"\"\"\n",
        "    instance_details = pricing_df[\n",
        "        (pricing_df[\"instanceType\"] == instance_type) &\n",
        "        (pricing_df[\"regionCode\"] == region)\n",
        "    ]\n",
        "    if not instance_details.empty:\n",
        "        return instance_details.iloc[0].to_dict()\n",
        "    else:\n",
        "        raise ValueError(f\"Instance type '{instance_type}' not found in region '{region}'.\")"
      ],
      "metadata": {
        "id": "1wFJNSsG9POa"
      },
      "execution_count": 7,
      "outputs": []
    },
    {
      "cell_type": "code",
      "source": [
        "# Define instance type and region\n",
        "instance_type = \"c7gd.medium\"\n",
        "region = \"ap-southeast-5\"  # Region code for Asia Pacific (Malaysia)\n",
        "\n",
        "# Fetch instance details\n",
        "instance_details = fetch_instance_details(instance_type, region, filtered_df)\n",
        "\n",
        "# Add pricing information (if not already in the data)\n",
        "instance_details[\"on_demand_hourly_price_usd\"] = 0.10  # Example price\n",
        "instance_details[\"reserved_1_year_hourly_price_usd\"] = 0.07\n",
        "instance_details[\"reserved_3_year_hourly_price_usd\"] = 0.05\n",
        "\n",
        "print(\"Instance Details Fetched:\")\n",
        "print(json.dumps(instance_details, indent=4))"
      ],
      "metadata": {
        "colab": {
          "base_uri": "https://localhost:8080/"
        },
        "id": "ivmGm1FP9TT2",
        "outputId": "e021c4d3-4c16-4ed9-80e0-c17e01161ee2"
      },
      "execution_count": 8,
      "outputs": [
        {
          "output_type": "stream",
          "name": "stdout",
          "text": [
            "Instance Details Fetched:\n",
            "{\n",
            "    \"sku\": NaN,\n",
            "    \"instanceType\": \"c7gd.medium\",\n",
            "    \"vcpu\": 1.0,\n",
            "    \"memory\": \"2 GiB\",\n",
            "    \"storage\": \"1 x 59 NVMe SSD\",\n",
            "    \"operatingSystem\": \"RHEL\",\n",
            "    \"marketoption\": \"OnDemand\",\n",
            "    \"regionCode\": \"ap-southeast-5\",\n",
            "    \"on_demand_hourly_price_usd\": 0.1,\n",
            "    \"reserved_1_year_hourly_price_usd\": 0.07,\n",
            "    \"reserved_3_year_hourly_price_usd\": 0.05\n",
            "}\n"
          ]
        }
      ]
    },
    {
      "cell_type": "code",
      "source": [
        "import ijson\n",
        "\n",
        "# Extract unique locations from the JSON file\n",
        "unique_locations = set()\n",
        "\n",
        "with open(\"/content/aws_pricing.json\", \"r\", encoding=\"utf-8\") as f:\n",
        "    products = ijson.kvitems(f, \"products\")  # Stream through the 'products'\n",
        "\n",
        "    for product_id, product in products:\n",
        "        location = product.get(\"attributes\", {}).get(\"location\")\n",
        "        if location:  # Only add non-empty locations\n",
        "            unique_locations.add(location)\n",
        "\n",
        "print(\"Available Locations:\")\n",
        "for location in sorted(unique_locations):\n",
        "    print(location)\n"
      ],
      "metadata": {
        "colab": {
          "base_uri": "https://localhost:8080/"
        },
        "id": "tSWiHhB1AxOV",
        "outputId": "a7fc84ce-dda2-4558-8bad-5469eabc6449"
      },
      "execution_count": 9,
      "outputs": [
        {
          "output_type": "stream",
          "name": "stdout",
          "text": [
            "Available Locations:\n",
            "AWS GovCloud (US-East)\n",
            "AWS GovCloud (US-West)\n",
            "Africa (Cape Town)\n",
            "Argentina (Buenos Aires)\n",
            "Asia Pacific (Hong Kong)\n",
            "Asia Pacific (Hyderabad)\n",
            "Asia Pacific (Jakarta)\n",
            "Asia Pacific (KDDI) - Osaka\n",
            "Asia Pacific (KDDI) - Tokyo\n",
            "Asia Pacific (Malaysia)\n",
            "Asia Pacific (Melbourne)\n",
            "Asia Pacific (Mumbai)\n",
            "Asia Pacific (Osaka)\n",
            "Asia Pacific (SKT) - Daejeon\n",
            "Asia Pacific (SKT) - Seoul\n",
            "Asia Pacific (Seoul)\n",
            "Asia Pacific (Singapore)\n",
            "Asia Pacific (Sydney)\n",
            "Asia Pacific (Thailand)\n",
            "Asia Pacific (Tokyo)\n",
            "Australia (Perth)\n",
            "Canada (BELL) - Toronto\n",
            "Canada (Central)\n",
            "Canada West (Calgary)\n",
            "Chile (Santiago)\n",
            "Denmark (Copenhagen)\n",
            "EU (Frankfurt)\n",
            "EU (Ireland)\n",
            "EU (London)\n",
            "EU (Milan)\n",
            "EU (Paris)\n",
            "EU (Stockholm)\n",
            "Europe (British Telecom) - Manchester\n",
            "Europe (Spain)\n",
            "Europe (Vodafone) - Berlin\n",
            "Europe (Vodafone) - Dortmund\n",
            "Europe (Vodafone) - London\n",
            "Europe (Vodafone) - Manchester\n",
            "Europe (Vodafone) - Munich\n",
            "Europe (Zurich)\n",
            "Finland (Helsinki)\n",
            "Germany (Hamburg)\n",
            "India (Delhi)\n",
            "India (Kolkata)\n",
            "Israel (Tel Aviv)\n",
            "Mexico (Central)\n",
            "Mexico (Queretaro)\n",
            "Middle East (Bahrain)\n",
            "Middle East (UAE)\n",
            "Morocco (Casablanca)\n",
            "New Zealand (Auckland)\n",
            "Nigeria (Lagos)\n",
            "Oman (Muscat)\n",
            "Peru (Lima)\n",
            "Philippines (Manila)\n",
            "Poland (Warsaw)\n",
            "South America (Sao Paulo)\n",
            "Taiwan (Taipei)\n",
            "Thailand (Bangkok)\n",
            "US East (Atlanta)\n",
            "US East (Boston)\n",
            "US East (Chicago)\n",
            "US East (Dallas)\n",
            "US East (Houston)\n",
            "US East (Kansas City 2)\n",
            "US East (Miami)\n",
            "US East (Minneapolis)\n",
            "US East (N. Virginia)\n",
            "US East (New York City)\n",
            "US East (Ohio)\n",
            "US East (Philadelphia)\n",
            "US East (Verizon) - Atlanta\n",
            "US East (Verizon) - Boston\n",
            "US East (Verizon) - Charlotte\n",
            "US East (Verizon) - Chicago\n",
            "US East (Verizon) - Dallas\n",
            "US East (Verizon) - Detroit\n",
            "US East (Verizon) - Houston\n",
            "US East (Verizon) - Miami\n",
            "US East (Verizon) - Minneapolis\n",
            "US East (Verizon) - Nashville\n",
            "US East (Verizon) - New York\n",
            "US East (Verizon) - Tampa\n",
            "US East (Verizon) - Washington DC\n",
            "US West (Denver)\n",
            "US West (Honolulu)\n",
            "US West (Las Vegas)\n",
            "US West (Los Angeles)\n",
            "US West (N. California)\n",
            "US West (Oregon)\n",
            "US West (Phoenix)\n",
            "US West (Portland)\n",
            "US West (Seattle)\n",
            "US West (Verizon) - Denver\n",
            "US West (Verizon) - Las Vegas\n",
            "US West (Verizon) - Los Angeles\n",
            "US West (Verizon) - Phoenix\n",
            "US West (Verizon) - San Francisco Bay Area\n",
            "US West (Verizon) - Seattle\n"
          ]
        }
      ]
    },
    {
      "cell_type": "code",
      "source": [
        "import pandas as pd  # Make sure pandas is imported\n",
        "\n",
        "# Load the log report\n",
        "log_df = pd.read_csv(\"/content/Log Report_2025.csv\", skiprows=5, names=[\n",
        "    \"timestamp\", \"status\", \"cpu_utilization\", \"bytes_received\", \"bytes_sent\",\n",
        "    \"packets_received\", \"packets_sent\", \"disk_read_ops\", \"disk_write_ops\"\n",
        "])\n",
        "\n",
        "# Clean and process the data\n",
        "log_df[\"timestamp\"] = pd.to_datetime(log_df[\"timestamp\"], errors=\"coerce\")\n",
        "log_df[\"cpu_utilization\"] = pd.to_numeric(log_df[\"cpu_utilization\"], errors=\"coerce\")\n",
        "\n",
        "# Aggregate CPU utilization by date\n",
        "cpu_stats = log_df.groupby(log_df[\"timestamp\"].dt.date)[\"cpu_utilization\"].agg([\"mean\", \"max\", \"min\"])\n",
        "\n",
        "print(\"CPU Utilization Summary:\")\n",
        "print(cpu_stats.head())\n"
      ],
      "metadata": {
        "colab": {
          "base_uri": "https://localhost:8080/"
        },
        "id": "130lXzQCf3JH",
        "outputId": "de70347d-a16c-460b-e824-eeeda1d81cea"
      },
      "execution_count": 10,
      "outputs": [
        {
          "output_type": "stream",
          "name": "stdout",
          "text": [
            "CPU Utilization Summary:\n",
            "                mean   max   min\n",
            "timestamp                       \n",
            "2025-03-10  0.375000  0.46  0.35\n",
            "2025-03-11  0.373333  0.48  0.34\n",
            "2025-03-12  0.384783  0.80  0.32\n",
            "2025-03-13  0.386667  0.72  0.32\n",
            "2025-03-14  0.370417  0.47  0.35\n"
          ]
        },
        {
          "output_type": "stream",
          "name": "stderr",
          "text": [
            "<ipython-input-10-eaf5ed77f521>:10: FutureWarning: Parsed string \"17 March 2025 9:10:58 AM IST\" included an un-recognized timezone \"IST\". Dropping unrecognized timezones is deprecated; in a future version this will raise. Instead pass the string without the timezone, then use .tz_localize to convert to a recognized timezone.\n",
            "  log_df[\"timestamp\"] = pd.to_datetime(log_df[\"timestamp\"], errors=\"coerce\")\n"
          ]
        }
      ]
    },
    {
      "cell_type": "code",
      "source": [
        "# Get average CPU utilization\n",
        "avg_cpu_utilization = cpu_stats[\"mean\"].mean()\n",
        "\n",
        "# Compare with instance capacity\n",
        "if avg_cpu_utilization < 20:  # Underutilized\n",
        "    print(\"Instance is underutilized. Consider downgrading.\")\n",
        "elif avg_cpu_utilization > 80:  # Overutilized\n",
        "    print(\"Instance is overutilized. Consider upgrading.\")\n",
        "else:\n",
        "    print(\"Instance utilization is optimal.\")"
      ],
      "metadata": {
        "colab": {
          "base_uri": "https://localhost:8080/"
        },
        "id": "PLCRZZ1Bgfv-",
        "outputId": "22fb9ea9-dc8d-40aa-bf5f-27b62707835c"
      },
      "execution_count": 11,
      "outputs": [
        {
          "output_type": "stream",
          "name": "stdout",
          "text": [
            "Instance is underutilized. Consider downgrading.\n"
          ]
        }
      ]
    },
    {
      "cell_type": "code",
      "source": [
        "import pandas as pd\n",
        "\n",
        "# Load the filtered pricing data (Ensure this file exists in the correct path)\n",
        "pricing_file_path = \"/content/aws_pricing_filtered.csv\"  # Update if needed\n",
        "\n",
        "try:\n",
        "    filtered_df = pd.read_csv(pricing_file_path)\n",
        "    print(\"Pricing data loaded successfully!\")\n",
        "except FileNotFoundError:\n",
        "    print(\"Error: Pricing file not found. Check the file path.\")\n",
        "\n",
        "# Define alternative instances (e.g., cheaper or similar performance)\n",
        "alternative_instances = [\"c7gd.small\", \"c7gd.large\"]  # Example alternatives\n",
        "\n",
        "# Ensure the DataFrame contains the expected column\n",
        "if \"instanceType\" in filtered_df.columns:\n",
        "    # Filter pricing data for alternative instances\n",
        "    alternative_pricing = filtered_df[filtered_df[\"instanceType\"].isin(alternative_instances)]\n",
        "else:\n",
        "    print(\"Error: Column 'instanceType' not found in pricing data.\")\n",
        "\n",
        "# Example test inventory details (Ensure this is defined)\n",
        "test_inventory = {\n",
        "    \"Instance Type\": \"c7gd.medium\",\n",
        "    \"on_demand_hourly_price_usd\": 0.1\n",
        "}\n",
        "\n",
        "# Compare with current instance\n",
        "current_instance_type = test_inventory[\"Instance Type\"]\n",
        "current_price = test_inventory[\"on_demand_hourly_price_usd\"]\n",
        "\n",
        "print(f\"\\nCost-Saving Recommendations for {current_instance_type}:\")\n",
        "for _, row in alternative_pricing.iterrows():\n",
        "    alt_instance_type = row[\"instanceType\"]\n",
        "    alt_price = row.get(\"on_demand_hourly_price_usd\", 0.08)  # Use actual price if available\n",
        "    savings = current_price - alt_price\n",
        "\n",
        "    if savings > 0:\n",
        "        print(f\"Switch to {alt_instance_type} to save ${savings:.4f} per hour.\")\n",
        "    else:\n",
        "        print(f\"{alt_instance_type} is more expensive by ${-savings:.4f} per hour.\")\n"
      ],
      "metadata": {
        "colab": {
          "base_uri": "https://localhost:8080/"
        },
        "id": "oWzP4sAMgiT6",
        "outputId": "5e26aa74-a88e-4463-96c5-a0f72ebb70d6"
      },
      "execution_count": 12,
      "outputs": [
        {
          "output_type": "stream",
          "name": "stdout",
          "text": [
            "Pricing data loaded successfully!\n",
            "\n",
            "Cost-Saving Recommendations for c7gd.medium:\n",
            "Switch to c7gd.large to save $0.0200 per hour.\n",
            "Switch to c7gd.large to save $0.0200 per hour.\n",
            "Switch to c7gd.large to save $0.0200 per hour.\n",
            "Switch to c7gd.large to save $0.0200 per hour.\n",
            "Switch to c7gd.large to save $0.0200 per hour.\n",
            "Switch to c7gd.large to save $0.0200 per hour.\n",
            "Switch to c7gd.large to save $0.0200 per hour.\n",
            "Switch to c7gd.large to save $0.0200 per hour.\n",
            "Switch to c7gd.large to save $0.0200 per hour.\n",
            "Switch to c7gd.large to save $0.0200 per hour.\n",
            "Switch to c7gd.large to save $0.0200 per hour.\n",
            "Switch to c7gd.large to save $0.0200 per hour.\n",
            "Switch to c7gd.large to save $0.0200 per hour.\n",
            "Switch to c7gd.large to save $0.0200 per hour.\n",
            "Switch to c7gd.large to save $0.0200 per hour.\n",
            "Switch to c7gd.large to save $0.0200 per hour.\n",
            "Switch to c7gd.large to save $0.0200 per hour.\n",
            "Switch to c7gd.large to save $0.0200 per hour.\n",
            "Switch to c7gd.large to save $0.0200 per hour.\n",
            "Switch to c7gd.large to save $0.0200 per hour.\n",
            "Switch to c7gd.large to save $0.0200 per hour.\n",
            "Switch to c7gd.large to save $0.0200 per hour.\n",
            "Switch to c7gd.large to save $0.0200 per hour.\n",
            "Switch to c7gd.large to save $0.0200 per hour.\n",
            "Switch to c7gd.large to save $0.0200 per hour.\n",
            "Switch to c7gd.large to save $0.0200 per hour.\n",
            "Switch to c7gd.large to save $0.0200 per hour.\n",
            "Switch to c7gd.large to save $0.0200 per hour.\n",
            "Switch to c7gd.large to save $0.0200 per hour.\n",
            "Switch to c7gd.large to save $0.0200 per hour.\n",
            "Switch to c7gd.large to save $0.0200 per hour.\n",
            "Switch to c7gd.large to save $0.0200 per hour.\n",
            "Switch to c7gd.large to save $0.0200 per hour.\n",
            "Switch to c7gd.large to save $0.0200 per hour.\n"
          ]
        }
      ]
    },
    {
      "cell_type": "code",
      "source": [
        "with open(\"/content/drive/MyDrive/recommendations.txt\", \"w\") as f:\n",
        "    f.write(\"Cost-Saving Recommendations:\\n\")\n",
        "    for _, row in alternative_pricing.iterrows():\n",
        "        alt_instance_type = row[\"instanceType\"]\n",
        "        alt_price = 0.08  # Example price for demonstration\n",
        "        savings = current_price - alt_price\n",
        "\n",
        "        if savings > 0:\n",
        "            f.write(f\"Switch to {alt_instance_type} to save ${savings:.4f} per hour.\\n\")"
      ],
      "metadata": {
        "id": "r0LOsu6Ggo1V"
      },
      "execution_count": 13,
      "outputs": []
    },
    {
      "cell_type": "code",
      "source": [
        "print(\"Recommendations saved to recommendations.txt\")"
      ],
      "metadata": {
        "colab": {
          "base_uri": "https://localhost:8080/"
        },
        "id": "sKBPN-qJgqP8",
        "outputId": "acbc2ea0-86b5-42d5-bbc4-c9b625a74e5e"
      },
      "execution_count": 14,
      "outputs": [
        {
          "output_type": "stream",
          "name": "stdout",
          "text": [
            "Recommendations saved to recommendations.txt\n"
          ]
        }
      ]
    },
    {
      "cell_type": "code",
      "source": [
        "import matplotlib.pyplot as plt\n",
        "\n",
        "# Define current instance details\n",
        "current_instance = {\n",
        "    \"Instance Type\": \"c7gd.medium\",  # Example instance type\n",
        "    \"vCPUs\": 1,  # Number of vCPUs\n",
        "    \"Memory (GiB)\": 2,  # Memory in GiB\n",
        "    \"Region\": \"Asia Pacific (Malaysia)\",  # Region\n",
        "    \"on_demand_hourly_price_usd\": 0.10,  # On-demand price\n",
        "    \"reserved_1_year_hourly_price_usd\": 0.07,  # 1-year reserved price\n",
        "    \"reserved_3_year_hourly_price_usd\": 0.05  # 3-year reserved price\n",
        "}\n",
        "\n",
        "# Plot CPU utilization over time\n",
        "plt.figure(figsize=(12, 6))\n",
        "\n",
        "# Plot the CPU utilization\n",
        "plt.plot(log_df[\"timestamp\"], log_df[\"cpu_utilization\"], label=\"CPU Utilization (%)\", color=\"blue\", marker=\"o\", linestyle=\"-\")\n",
        "\n",
        "# Add horizontal lines for instance capacity thresholds\n",
        "plt.axhline(y=80, color=\"red\", linestyle=\"--\", label=\"High Utilization Threshold (80%)\")\n",
        "plt.axhline(y=20, color=\"green\", linestyle=\"--\", label=\"Low Utilization Threshold (20%)\")\n",
        "\n",
        "# Add a horizontal line for the instance's vCPU capacity\n",
        "vCPU_capacity = current_instance[\"vCPUs\"] * 100  # Assuming 100% utilization per vCPU\n",
        "plt.axhline(y=vCPU_capacity, color=\"orange\", linestyle=\"-.\", label=\"Instance vCPU Capacity (100%)\")\n",
        "\n",
        "# Add labels, title, and legend\n",
        "plt.title(\"CPU Utilization Over Time\", fontsize=16)\n",
        "plt.xlabel(\"Timestamp\", fontsize=12)\n",
        "plt.ylabel(\"CPU Utilization (%)\", fontsize=12)\n",
        "plt.legend(loc=\"upper left\", fontsize=10)\n",
        "plt.grid(True, linestyle=\"--\", alpha=0.7)\n",
        "\n",
        "# Rotate x-axis labels for better readability\n",
        "plt.xticks(rotation=45)\n",
        "\n",
        "# Show the plot\n",
        "plt.tight_layout()\n",
        "plt.show()"
      ],
      "metadata": {
        "colab": {
          "base_uri": "https://localhost:8080/",
          "height": 569
        },
        "id": "bx4lRRmNldM_",
        "outputId": "5ac663a8-c929-474a-b61b-db9702faab8a"
      },
      "execution_count": 15,
      "outputs": [
        {
          "output_type": "display_data",
          "data": {
            "text/plain": [
              "<Figure size 1200x600 with 1 Axes>"
            ],
            "image/png": "[encoded data removed]"
          },
          "metadata": {}
        }
      ]
    },
    {
      "cell_type": "code",
      "source": [
        "print(log_df.columns)\n"
      ],
      "metadata": {
        "colab": {
          "base_uri": "https://localhost:8080/"
        },
        "id": "-aetireAzTZd",
        "outputId": "ad3ae5dc-f838-4f35-a062-6fb4ee2524af"
      },
      "execution_count": 16,
      "outputs": [
        {
          "output_type": "stream",
          "name": "stdout",
          "text": [
            "Index(['timestamp', 'status', 'cpu_utilization', 'bytes_received',\n",
            "       'bytes_sent', 'packets_received', 'packets_sent', 'disk_read_ops',\n",
            "       'disk_write_ops'],\n",
            "      dtype='object')\n"
          ]
        }
      ]
    },
    {
      "cell_type": "markdown",
      "source": [
        "MEMORY UTILIZATION SUMMARY"
      ],
      "metadata": {
        "id": "AyBv1RXbPKjs"
      }
    },
    {
      "cell_type": "code",
      "source": [
        "import pandas as pd\n",
        "import numpy as np\n",
        "from datetime import datetime, timedelta\n",
        "\n",
        "# Simulate memory utilization data for the EC2 instance\n",
        "def simulate_memory_utilization(days=30, memory_capacity_gib=0.5):\n",
        "    \"\"\"\n",
        "    Simulate memory utilization data for the given instance.\n",
        "    \"\"\"\n",
        "    # Generate timestamps for the last `days` days\n",
        "    timestamps = [datetime.now() - timedelta(days=i) for i in range(days)]\n",
        "\n",
        "    # Simulate memory utilization (random values between 0 and memory_capacity_gib)\n",
        "    memory_utilization = np.random.uniform(0, memory_capacity_gib, size=days)\n",
        "\n",
        "    # Create a DataFrame\n",
        "    log_df = pd.DataFrame({\n",
        "        \"timestamp\": timestamps,\n",
        "        \"memory_utilization_gib\": memory_utilization\n",
        "    })\n",
        "\n",
        "    return log_df\n",
        "\n",
        "# EC2 instance details\n",
        "instance_details = {\n",
        "    \"Instance Type\": \"t2.nano\",\n",
        "    \"vCPUs\": 1,\n",
        "    \"Memory (GiB)\": 0.5,\n",
        "    \"Instance Storage (GB)\": \"EBS only\",\n",
        "    \"Region\": \"us-east-1\",\n",
        "    \"Availability Zone\": \"us-east-1a\"\n",
        "}\n",
        "\n",
        "# Simulate memory utilization data\n",
        "memory_capacity_gib = instance_details[\"Memory (GiB)\"]\n",
        "log_df = simulate_memory_utilization(days=30, memory_capacity_gib=memory_capacity_gib)\n",
        "\n",
        "# Aggregate memory utilization by date\n",
        "memory_stats = log_df.groupby(log_df[\"timestamp\"].dt.date)[\"memory_utilization_gib\"].agg([\"mean\", \"max\", \"min\"])\n",
        "\n",
        "print(\"Memory Utilization Summary:\")\n",
        "print(memory_stats.head())\n",
        "\n",
        "# Get average memory utilization\n",
        "avg_memory_utilization = memory_stats[\"mean\"].mean()\n",
        "\n",
        "# Compare with instance capacity\n",
        "if avg_memory_utilization < 0.1:  # Underutilized (less than 20% of memory capacity)\n",
        "    print(\"Memory is underutilized. Consider downgrading.\")\n",
        "elif avg_memory_utilization > 0.4:  # Overutilized (more than 80% of memory capacity)\n",
        "    print(\"Memory is overutilized. Consider upgrading.\")\n",
        "else:\n",
        "    print(\"Memory utilization is optimal.\")\n",
        "\n",
        "# Print instance details\n",
        "print(\"\\nEC2 Instance Details:\")\n",
        "for key, value in instance_details.items():\n",
        "    print(f\"{key}: {value}\")"
      ],
      "metadata": {
        "colab": {
          "base_uri": "https://localhost:8080/"
        },
        "id": "2GR5HhkvOtBh",
        "outputId": "c90196af-e47b-40c4-e8b9-70b206a0c887"
      },
      "execution_count": 17,
      "outputs": [
        {
          "output_type": "stream",
          "name": "stdout",
          "text": [
            "Memory Utilization Summary:\n",
            "                mean       max       min\n",
            "timestamp                               \n",
            "2025-02-23  0.486814  0.486814  0.486814\n",
            "2025-02-24  0.025741  0.025741  0.025741\n",
            "2025-02-25  0.308462  0.308462  0.308462\n",
            "2025-02-26  0.088532  0.088532  0.088532\n",
            "2025-02-27  0.037585  0.037585  0.037585\n",
            "Memory utilization is optimal.\n",
            "\n",
            "EC2 Instance Details:\n",
            "Instance Type: t2.nano\n",
            "vCPUs: 1\n",
            "Memory (GiB): 0.5\n",
            "Instance Storage (GB): EBS only\n",
            "Region: us-east-1\n",
            "Availability Zone: us-east-1a\n"
          ]
        }
      ]
    },
    {
      "cell_type": "code",
      "source": [
        "log_df[\"cpu_utilization\"] = np.random.uniform(0, 100, size=30)  # Simulate CPU utilization (0-100%)\n",
        "cpu_stats = log_df.groupby(log_df[\"timestamp\"].dt.date)[\"cpu_utilization\"].agg([\"mean\", \"max\", \"min\"])\n",
        "avg_cpu_utilization = cpu_stats[\"mean\"].mean()\n",
        "\n",
        "if avg_cpu_utilization < 20:\n",
        "    print(\"CPU is underutilized. Consider downgrading.\")\n",
        "elif avg_cpu_utilization > 80:\n",
        "    print(\"CPU is overutilized. Consider upgrading.\")\n",
        "else:\n",
        "    print(\"CPU utilization is optimal.\")"
      ],
      "metadata": {
        "colab": {
          "base_uri": "https://localhost:8080/"
        },
        "id": "kS3jSCYDPIUS",
        "outputId": "5cfeeeb5-87d1-4a90-db24-2fdc5e602eb5"
      },
      "execution_count": 18,
      "outputs": [
        {
          "output_type": "stream",
          "name": "stdout",
          "text": [
            "CPU utilization is optimal.\n"
          ]
        }
      ]
    },
    {
      "cell_type": "code",
      "source": [
        "# Compare on-demand vs. reserved pricing\n",
        "def compare_pricing(current_instance, reserved_1_year_price, reserved_3_year_price):\n",
        "    on_demand_price = current_instance[\"on_demand_hourly_price_usd\"]\n",
        "    savings_1_year = on_demand_price - reserved_1_year_price\n",
        "    savings_3_year = on_demand_price - reserved_3_year_price\n",
        "\n",
        "    if savings_1_year > 0:\n",
        "        print(f\"Switch to 1-year reserved instance to save ${savings_1_year:.4f} per hour.\")\n",
        "    if savings_3_year > 0:\n",
        "        print(f\"Switch to 3-year reserved instance to save ${savings_3_year:.4f} per hour.\")\n",
        "\n",
        "# Example usage\n",
        "compare_pricing(test_inventory, 0.07, 0.05)\n",
        "\n"
      ],
      "metadata": {
        "colab": {
          "base_uri": "https://localhost:8080/"
        },
        "id": "uDzf126uS30o",
        "outputId": "304dcd30-0880-4a67-9055-22f5223fb29b"
      },
      "execution_count": 19,
      "outputs": [
        {
          "output_type": "stream",
          "name": "stdout",
          "text": [
            "Switch to 1-year reserved instance to save $0.0300 per hour.\n",
            "Switch to 3-year reserved instance to save $0.0500 per hour.\n"
          ]
        }
      ]
    },
    {
      "cell_type": "code",
      "source": [
        "print(\"Columns in filtered_df:\", filtered_df.columns)\n"
      ],
      "metadata": {
        "colab": {
          "base_uri": "https://localhost:8080/"
        },
        "id": "Wi6oxOevWJYY",
        "outputId": "60d0b2eb-7762-4d50-e976-6cd67c3ee0d7"
      },
      "execution_count": 20,
      "outputs": [
        {
          "output_type": "stream",
          "name": "stdout",
          "text": [
            "Columns in filtered_df: Index(['sku', 'instanceType', 'vcpu', 'memory', 'storage', 'operatingSystem',\n",
            "       'marketoption', 'regionCode'],\n",
            "      dtype='object')\n"
          ]
        }
      ]
    },
    {
      "cell_type": "code",
      "source": [
        "pricing_df = pd.read_csv(\"/content/aws_pricing_filtered.csv\")  # Change path if needed\n",
        "print(pricing_df.columns)  # Check if it contains price data\n"
      ],
      "metadata": {
        "colab": {
          "base_uri": "https://localhost:8080/"
        },
        "id": "odfhxz_-Wi7l",
        "outputId": "a8312667-9b98-4c5e-8f15-4a5d6e43d6a6"
      },
      "execution_count": 21,
      "outputs": [
        {
          "output_type": "stream",
          "name": "stdout",
          "text": [
            "Index(['sku', 'instanceType', 'vcpu', 'memory', 'storage', 'operatingSystem',\n",
            "       'marketoption', 'regionCode'],\n",
            "      dtype='object')\n"
          ]
        }
      ]
    },
    {
      "cell_type": "code",
      "source": [
        "# Hardcoded test inventory\n",
        "test_inventory = {\n",
        "    \"Instance Type\": \"c7gd.medium\",\n",
        "    \"vCPUs\": 1,\n",
        "    \"Memory (GiB)\": 2,\n",
        "    \"Region\": \"Asia Pacific (Malaysia)\",\n",
        "    \"on_demand_hourly_price_usd\": 0.10,\n",
        "    \"reserved_1_year_hourly_price_usd\": 0.07,\n",
        "    \"reserved_3_year_hourly_price_usd\": 0.05\n",
        "}\n",
        "\n",
        "# Real-world EC2 instance details\n",
        "ec2_instance_details = {\n",
        "    \"Instance Type\": \"t2.nano\",\n",
        "    \"vCPUs\": 1,\n",
        "    \"Memory (GiB)\": 0.5,\n",
        "    \"Region\": \"us-east-1\",\n",
        "    \"Instance Storage (GB)\": \"EBS only\",\n",
        "    \"Creation Time\": \"Tue Feb 27 23:38:46 PST 2024\",\n",
        "    \"Instance State\": \"running\",\n",
        "    \"Availability Zone\": \"us-east-1a\",\n",
        "    \"Image ID\": \"ami-0e731c8a588258d0d\",\n",
        "    \"Image Name\": \"al2023-ami-2023.3.20240205.2-kernel-6.1-x86_64\",\n",
        "    \"Platform\": \"Linux/UNIX\",\n",
        "    \"Public IP Address\": \"3.91.36.163\",\n",
        "    \"Private IP Address\": \"172.31.36.151\",\n",
        "    \"VPC ID\": \"vpc-6f0be915\",\n",
        "    \"Security Groups\": \"launch-wizard-253(sg-09a7a16bc5f9785f2)\",\n",
        "    \"Architecture\": \"x86_64\",\n",
        "    \"Root Device Type\": \"ebs\",\n",
        "    \"Root Device Name\": \"/dev/xvda\",\n",
        "    \"Virtualization Type\": \"hvm\",\n",
        "    \"Accelerators\": \"Disabled\"\n",
        "}\n",
        "\n",
        "# Function to analyze instance utilization\n",
        "def analyze_instance(instance_details):\n",
        "    instance_type = instance_details[\"Instance Type\"]\n",
        "    vcpus = instance_details[\"vCPUs\"]\n",
        "    memory_gib = instance_details[\"Memory (GiB)\"]\n",
        "    region = instance_details[\"Region\"]\n",
        "\n",
        "    print(f\"Analyzing instance: {instance_type} in {region}\")\n",
        "    print(f\"vCPUs: {vcpus}, Memory: {memory_gib} GiB\")\n",
        "\n",
        "    # Simulate utilization analysis\n",
        "    avg_cpu_utilization = 30  # Example value\n",
        "    avg_memory_utilization = 0.3  # Example value\n",
        "\n",
        "    if avg_cpu_utilization < 20:\n",
        "        print(\"CPU is underutilized. Consider downgrading.\")\n",
        "    elif avg_cpu_utilization > 80:\n",
        "        print(\"CPU is overutilized. Consider upgrading.\")\n",
        "    else:\n",
        "        print(\"CPU utilization is optimal.\")\n",
        "\n",
        "    if avg_memory_utilization < 0.1:  # Less than 20% of memory capacity\n",
        "        print(\"Memory is underutilized. Consider downgrading.\")\n",
        "    elif avg_memory_utilization > 0.4:  # More than 80% of memory capacity\n",
        "        print(\"Memory is overutilized. Consider upgrading.\")\n",
        "    else:\n",
        "        print(\"Memory utilization is optimal.\")\n",
        "\n",
        "# Analyze both instances\n",
        "print(\"=== Test Inventory Analysis ===\")\n",
        "analyze_instance(test_inventory)\n",
        "\n",
        "print(\"\\n=== EC2 Instance Analysis ===\")\n",
        "analyze_instance(ec2_instance_details)"
      ],
      "metadata": {
        "colab": {
          "base_uri": "https://localhost:8080/"
        },
        "id": "62_J_i0ANiaW",
        "outputId": "816624a2-dad5-47d1-b90d-6fe1e0648af2"
      },
      "execution_count": 22,
      "outputs": [
        {
          "output_type": "stream",
          "name": "stdout",
          "text": [
            "=== Test Inventory Analysis ===\n",
            "Analyzing instance: c7gd.medium in Asia Pacific (Malaysia)\n",
            "vCPUs: 1, Memory: 2 GiB\n",
            "CPU utilization is optimal.\n",
            "Memory utilization is optimal.\n",
            "\n",
            "=== EC2 Instance Analysis ===\n",
            "Analyzing instance: t2.nano in us-east-1\n",
            "vCPUs: 1, Memory: 0.5 GiB\n",
            "CPU utilization is optimal.\n",
            "Memory utilization is optimal.\n"
          ]
        }
      ]
    },
    {
      "cell_type": "code",
      "source": [
        "import numpy as np\n",
        "# Simulate memory utilization data (example range: 10-90%)\n",
        "log_df[\"memory_utilization\"] = np.random.randint(10, 90, size=len(log_df))\n"
      ],
      "metadata": {
        "id": "UsHT0NF4zpMQ"
      },
      "execution_count": 23,
      "outputs": []
    },
    {
      "cell_type": "code",
      "source": [
        "# Aggregate Memory utilization by date\n",
        "log_df[\"memory_utilization\"] = pd.to_numeric(log_df[\"memory_utilization\"], errors=\"coerce\")\n",
        "memory_stats = log_df.groupby(log_df[\"timestamp\"].dt.date)[\"memory_utilization\"].agg([\"mean\", \"max\", \"min\"])\n",
        "\n",
        "print(\"Memory Utilization Summary:\")\n",
        "print(memory_stats.head())\n",
        "\n",
        "# Calculate average memory utilization\n",
        "avg_memory_utilization = memory_stats[\"mean\"].mean()\n",
        "\n",
        "# Compare with memory capacity\n",
        "if avg_memory_utilization < 20:  # Underutilized\n",
        "    print(\"Memory is underutilized. Consider downgrading memory resources.\")\n",
        "elif avg_memory_utilization > 80:  # Overutilized\n",
        "    print(\"Memory is overutilized. Consider upgrading memory resources.\")\n",
        "else:\n",
        "    print(\"Memory utilization is optimal.\")\n"
      ],
      "metadata": {
        "colab": {
          "base_uri": "https://localhost:8080/"
        },
        "id": "FpDncWEizUsF",
        "outputId": "7b1da099-3c1a-4ce0-b381-e961ca2a27cc"
      },
      "execution_count": 24,
      "outputs": [
        {
          "output_type": "stream",
          "name": "stdout",
          "text": [
            "Memory Utilization Summary:\n",
            "            mean  max  min\n",
            "timestamp                 \n",
            "2025-02-23  59.0   59   59\n",
            "2025-02-24  11.0   11   11\n",
            "2025-02-25  20.0   20   20\n",
            "2025-02-26  83.0   83   83\n",
            "2025-02-27  56.0   56   56\n",
            "Memory utilization is optimal.\n"
          ]
        }
      ]
    },
    {
      "cell_type": "code",
      "source": [
        "# Define the list before appending values\n",
        "instance_types = []\n",
        "\n",
        "# Add new instance types\n",
        "instance_types += [\n",
        "    {\"instance_type\": \"c7gd.2xlarge\", \"vcpus\": 16, \"memory_gb\": 64, \"storage_gb\": 600, \"region\": \"Asia Pacific (Malaysia)\", \"price_per_hour_usd\": 0.80},\n",
        "    {\"instance_type\": \"c7gd.4xlarge\", \"vcpus\": 32, \"memory_gb\": 128, \"storage_gb\": 1200, \"region\": \"Asia Pacific (Malaysia)\", \"price_per_hour_usd\": 1.60}\n",
        "]\n",
        "\n",
        "# Print to verify\n",
        "print(instance_types)\n"
      ],
      "metadata": {
        "id": "u86s_ig-E7LQ",
        "colab": {
          "base_uri": "https://localhost:8080/"
        },
        "outputId": "f981faad-5b4f-4162-83a6-fc2a9df64e07"
      },
      "execution_count": 25,
      "outputs": [
        {
          "output_type": "stream",
          "name": "stdout",
          "text": [
            "[{'instance_type': 'c7gd.2xlarge', 'vcpus': 16, 'memory_gb': 64, 'storage_gb': 600, 'region': 'Asia Pacific (Malaysia)', 'price_per_hour_usd': 0.8}, {'instance_type': 'c7gd.4xlarge', 'vcpus': 32, 'memory_gb': 128, 'storage_gb': 1200, 'region': 'Asia Pacific (Malaysia)', 'price_per_hour_usd': 1.6}]\n"
          ]
        }
      ]
    },
    {
      "cell_type": "code",
      "source": [
        "# Convert list to DataFrame\n",
        "instance_df = pd.DataFrame(instance_types)\n",
        "\n",
        "# Example values for total CPU, memory, and storage\n",
        "total_cpu = 160\n",
        "total_memory = 640\n",
        "total_storage = 500\n",
        "\n",
        "# Apply filtering\n",
        "available_instances = instance_df[\n",
        "    (instance_df[\"vcpus\"] >= total_cpu / 10) &\n",
        "    (instance_df[\"memory_gb\"] >= total_memory / 10) &\n",
        "    (instance_df[\"storage_gb\"] >= total_storage)\n",
        "]\n",
        "\n",
        "# Allow cross-region recommendations if no matches are found\n",
        "if available_instances.empty:\n",
        "    available_instances = instance_df[\n",
        "        (instance_df[\"vcpus\"] >= total_cpu / 10) &\n",
        "        (instance_df[\"memory_gb\"] >= total_memory / 10) &\n",
        "        (instance_df[\"storage_gb\"] >= total_storage)\n",
        "    ]\n",
        "\n",
        "# Print results\n",
        "print(available_instances)"
      ],
      "metadata": {
        "id": "USVPCjUnE8VB",
        "colab": {
          "base_uri": "https://localhost:8080/"
        },
        "outputId": "7fa376f2-b3b7-4e5d-e6c2-7466942a5670"
      },
      "execution_count": 26,
      "outputs": [
        {
          "output_type": "stream",
          "name": "stdout",
          "text": [
            "  instance_type  vcpus  memory_gb  storage_gb                   region  \\\n",
            "0  c7gd.2xlarge     16         64         600  Asia Pacific (Malaysia)   \n",
            "1  c7gd.4xlarge     32        128        1200  Asia Pacific (Malaysia)   \n",
            "\n",
            "   price_per_hour_usd  \n",
            "0                 0.8  \n",
            "1                 1.6  \n"
          ]
        }
      ]
    },
    {
      "cell_type": "markdown",
      "source": [
        "# **STREAMLIT**"
      ],
      "metadata": {
        "id": "35tG94O3CmZv"
      }
    },
    {
      "cell_type": "code",
      "source": [
        "!pip install streamlit pyngrok"
      ],
      "metadata": {
        "colab": {
          "base_uri": "https://localhost:8080/"
        },
        "id": "XBFrwL4QCpQB",
        "outputId": "e2ae4102-daa2-48d2-ca09-6f7225b5fd17"
      },
      "execution_count": 5,
      "outputs": [
        {
          "output_type": "stream",
          "name": "stdout",
          "text": [
            "Requirement already satisfied: streamlit in /usr/local/lib/python3.11/dist-packages (1.43.2)\n",
            "Requirement already satisfied: pyngrok in /usr/local/lib/python3.11/dist-packages (7.2.3)\n",
            "Requirement already satisfied: altair<6,>=4.0 in /usr/local/lib/python3.11/dist-packages (from streamlit) (5.5.0)\n",
            "Requirement already satisfied: blinker<2,>=1.0.0 in /usr/local/lib/python3.11/dist-packages (from streamlit) (1.9.0)\n",
            "Requirement already satisfied: cachetools<6,>=4.0 in /usr/local/lib/python3.11/dist-packages (from streamlit) (5.5.2)\n",
            "Requirement already satisfied: click<9,>=7.0 in /usr/local/lib/python3.11/dist-packages (from streamlit) (8.1.8)\n",
            "Requirement already satisfied: numpy<3,>=1.23 in /usr/local/lib/python3.11/dist-packages (from streamlit) (2.0.2)\n",
            "Requirement already satisfied: packaging<25,>=20 in /usr/local/lib/python3.11/dist-packages (from streamlit) (24.2)\n",
            "Requirement already satisfied: pandas<3,>=1.4.0 in /usr/local/lib/python3.11/dist-packages (from streamlit) (2.2.2)\n",
            "Requirement already satisfied: pillow<12,>=7.1.0 in /usr/local/lib/python3.11/dist-packages (from streamlit) (11.1.0)\n",
            "Requirement already satisfied: protobuf<6,>=3.20 in /usr/local/lib/python3.11/dist-packages (from streamlit) (5.29.3)\n",
            "Requirement already satisfied: pyarrow>=7.0 in /usr/local/lib/python3.11/dist-packages (from streamlit) (18.1.0)\n",
            "Requirement already satisfied: requests<3,>=2.27 in /usr/local/lib/python3.11/dist-packages (from streamlit) (2.32.3)\n",
            "Requirement already satisfied: tenacity<10,>=8.1.0 in /usr/local/lib/python3.11/dist-packages (from streamlit) (9.0.0)\n",
            "Requirement already satisfied: toml<2,>=0.10.1 in /usr/local/lib/python3.11/dist-packages (from streamlit) (0.10.2)\n",
            "Requirement already satisfied: typing-extensions<5,>=4.4.0 in /usr/local/lib/python3.11/dist-packages (from streamlit) (4.12.2)\n",
            "Requirement already satisfied: watchdog<7,>=2.1.5 in /usr/local/lib/python3.11/dist-packages (from streamlit) (6.0.0)\n",
            "Requirement already satisfied: gitpython!=3.1.19,<4,>=3.0.7 in /usr/local/lib/python3.11/dist-packages (from streamlit) (3.1.44)\n",
            "Requirement already satisfied: pydeck<1,>=0.8.0b4 in /usr/local/lib/python3.11/dist-packages (from streamlit) (0.9.1)\n",
            "Requirement already satisfied: tornado<7,>=6.0.3 in /usr/local/lib/python3.11/dist-packages (from streamlit) (6.4.2)\n",
            "Requirement already satisfied: PyYAML>=5.1 in /usr/local/lib/python3.11/dist-packages (from pyngrok) (6.0.2)\n",
            "Requirement already satisfied: jinja2 in /usr/local/lib/python3.11/dist-packages (from altair<6,>=4.0->streamlit) (3.1.6)\n",
            "Requirement already satisfied: jsonschema>=3.0 in /usr/local/lib/python3.11/dist-packages (from altair<6,>=4.0->streamlit) (4.23.0)\n",
            "Requirement already satisfied: narwhals>=1.14.2 in /usr/local/lib/python3.11/dist-packages (from altair<6,>=4.0->streamlit) (1.31.0)\n",
            "Requirement already satisfied: gitdb<5,>=4.0.1 in /usr/local/lib/python3.11/dist-packages (from gitpython!=3.1.19,<4,>=3.0.7->streamlit) (4.0.12)\n",
            "Requirement already satisfied: python-dateutil>=2.8.2 in /usr/local/lib/python3.11/dist-packages (from pandas<3,>=1.4.0->streamlit) (2.8.2)\n",
            "Requirement already satisfied: pytz>=2020.1 in /usr/local/lib/python3.11/dist-packages (from pandas<3,>=1.4.0->streamlit) (2025.1)\n",
            "Requirement already satisfied: tzdata>=2022.7 in /usr/local/lib/python3.11/dist-packages (from pandas<3,>=1.4.0->streamlit) (2025.1)\n",
            "Requirement already satisfied: charset-normalizer<4,>=2 in /usr/local/lib/python3.11/dist-packages (from requests<3,>=2.27->streamlit) (3.4.1)\n",
            "Requirement already satisfied: idna<4,>=2.5 in /usr/local/lib/python3.11/dist-packages (from requests<3,>=2.27->streamlit) (3.10)\n",
            "Requirement already satisfied: urllib3<3,>=1.21.1 in /usr/local/lib/python3.11/dist-packages (from requests<3,>=2.27->streamlit) (2.3.0)\n",
            "Requirement already satisfied: certifi>=2017.4.17 in /usr/local/lib/python3.11/dist-packages (from requests<3,>=2.27->streamlit) (2025.1.31)\n",
            "Requirement already satisfied: smmap<6,>=3.0.1 in /usr/local/lib/python3.11/dist-packages (from gitdb<5,>=4.0.1->gitpython!=3.1.19,<4,>=3.0.7->streamlit) (5.0.2)\n",
            "Requirement already satisfied: MarkupSafe>=2.0 in /usr/local/lib/python3.11/dist-packages (from jinja2->altair<6,>=4.0->streamlit) (3.0.2)\n",
            "Requirement already satisfied: attrs>=22.2.0 in /usr/local/lib/python3.11/dist-packages (from jsonschema>=3.0->altair<6,>=4.0->streamlit) (25.3.0)\n",
            "Requirement already satisfied: jsonschema-specifications>=2023.03.6 in /usr/local/lib/python3.11/dist-packages (from jsonschema>=3.0->altair<6,>=4.0->streamlit) (2024.10.1)\n",
            "Requirement already satisfied: referencing>=0.28.4 in /usr/local/lib/python3.11/dist-packages (from jsonschema>=3.0->altair<6,>=4.0->streamlit) (0.36.2)\n",
            "Requirement already satisfied: rpds-py>=0.7.1 in /usr/local/lib/python3.11/dist-packages (from jsonschema>=3.0->altair<6,>=4.0->streamlit) (0.23.1)\n",
            "Requirement already satisfied: six>=1.5 in /usr/local/lib/python3.11/dist-packages (from python-dateutil>=2.8.2->pandas<3,>=1.4.0->streamlit) (1.17.0)\n"
          ]
        }
      ]
    },
    {
      "cell_type": "code",
      "source": [
        "!pip install --upgrade pyngrok"
      ],
      "metadata": {
        "colab": {
          "base_uri": "https://localhost:8080/"
        },
        "id": "hWb7323qELBr",
        "outputId": "17447aad-6e37-45b3-9638-5048e6e9381c"
      },
      "execution_count": 6,
      "outputs": [
        {
          "output_type": "stream",
          "name": "stdout",
          "text": [
            "Requirement already satisfied: pyngrok in /usr/local/lib/python3.11/dist-packages (7.2.3)\n",
            "Requirement already satisfied: PyYAML>=5.1 in /usr/local/lib/python3.11/dist-packages (from pyngrok) (6.0.2)\n"
          ]
        }
      ]
    },
    {
      "cell_type": "code",
      "source": [
        "!pip install streamlit\n"
      ],
      "metadata": {
        "colab": {
          "base_uri": "https://localhost:8080/"
        },
        "id": "sIKJEY16GcZh",
        "outputId": "db670ead-ab74-41a0-9985-694d969630d9"
      },
      "execution_count": 7,
      "outputs": [
        {
          "output_type": "stream",
          "name": "stdout",
          "text": [
            "Requirement already satisfied: streamlit in /usr/local/lib/python3.11/dist-packages (1.43.2)\n",
            "Requirement already satisfied: altair<6,>=4.0 in /usr/local/lib/python3.11/dist-packages (from streamlit) (5.5.0)\n",
            "Requirement already satisfied: blinker<2,>=1.0.0 in /usr/local/lib/python3.11/dist-packages (from streamlit) (1.9.0)\n",
            "Requirement already satisfied: cachetools<6,>=4.0 in /usr/local/lib/python3.11/dist-packages (from streamlit) (5.5.2)\n",
            "Requirement already satisfied: click<9,>=7.0 in /usr/local/lib/python3.11/dist-packages (from streamlit) (8.1.8)\n",
            "Requirement already satisfied: numpy<3,>=1.23 in /usr/local/lib/python3.11/dist-packages (from streamlit) (2.0.2)\n",
            "Requirement already satisfied: packaging<25,>=20 in /usr/local/lib/python3.11/dist-packages (from streamlit) (24.2)\n",
            "Requirement already satisfied: pandas<3,>=1.4.0 in /usr/local/lib/python3.11/dist-packages (from streamlit) (2.2.2)\n",
            "Requirement already satisfied: pillow<12,>=7.1.0 in /usr/local/lib/python3.11/dist-packages (from streamlit) (11.1.0)\n",
            "Requirement already satisfied: protobuf<6,>=3.20 in /usr/local/lib/python3.11/dist-packages (from streamlit) (5.29.3)\n",
            "Requirement already satisfied: pyarrow>=7.0 in /usr/local/lib/python3.11/dist-packages (from streamlit) (18.1.0)\n",
            "Requirement already satisfied: requests<3,>=2.27 in /usr/local/lib/python3.11/dist-packages (from streamlit) (2.32.3)\n",
            "Requirement already satisfied: tenacity<10,>=8.1.0 in /usr/local/lib/python3.11/dist-packages (from streamlit) (9.0.0)\n",
            "Requirement already satisfied: toml<2,>=0.10.1 in /usr/local/lib/python3.11/dist-packages (from streamlit) (0.10.2)\n",
            "Requirement already satisfied: typing-extensions<5,>=4.4.0 in /usr/local/lib/python3.11/dist-packages (from streamlit) (4.12.2)\n",
            "Requirement already satisfied: watchdog<7,>=2.1.5 in /usr/local/lib/python3.11/dist-packages (from streamlit) (6.0.0)\n",
            "Requirement already satisfied: gitpython!=3.1.19,<4,>=3.0.7 in /usr/local/lib/python3.11/dist-packages (from streamlit) (3.1.44)\n",
            "Requirement already satisfied: pydeck<1,>=0.8.0b4 in /usr/local/lib/python3.11/dist-packages (from streamlit) (0.9.1)\n",
            "Requirement already satisfied: tornado<7,>=6.0.3 in /usr/local/lib/python3.11/dist-packages (from streamlit) (6.4.2)\n",
            "Requirement already satisfied: jinja2 in /usr/local/lib/python3.11/dist-packages (from altair<6,>=4.0->streamlit) (3.1.6)\n",
            "Requirement already satisfied: jsonschema>=3.0 in /usr/local/lib/python3.11/dist-packages (from altair<6,>=4.0->streamlit) (4.23.0)\n",
            "Requirement already satisfied: narwhals>=1.14.2 in /usr/local/lib/python3.11/dist-packages (from altair<6,>=4.0->streamlit) (1.31.0)\n",
            "Requirement already satisfied: gitdb<5,>=4.0.1 in /usr/local/lib/python3.11/dist-packages (from gitpython!=3.1.19,<4,>=3.0.7->streamlit) (4.0.12)\n",
            "Requirement already satisfied: python-dateutil>=2.8.2 in /usr/local/lib/python3.11/dist-packages (from pandas<3,>=1.4.0->streamlit) (2.8.2)\n",
            "Requirement already satisfied: pytz>=2020.1 in /usr/local/lib/python3.11/dist-packages (from pandas<3,>=1.4.0->streamlit) (2025.1)\n",
            "Requirement already satisfied: tzdata>=2022.7 in /usr/local/lib/python3.11/dist-packages (from pandas<3,>=1.4.0->streamlit) (2025.1)\n",
            "Requirement already satisfied: charset-normalizer<4,>=2 in /usr/local/lib/python3.11/dist-packages (from requests<3,>=2.27->streamlit) (3.4.1)\n",
            "Requirement already satisfied: idna<4,>=2.5 in /usr/local/lib/python3.11/dist-packages (from requests<3,>=2.27->streamlit) (3.10)\n",
            "Requirement already satisfied: urllib3<3,>=1.21.1 in /usr/local/lib/python3.11/dist-packages (from requests<3,>=2.27->streamlit) (2.3.0)\n",
            "Requirement already satisfied: certifi>=2017.4.17 in /usr/local/lib/python3.11/dist-packages (from requests<3,>=2.27->streamlit) (2025.1.31)\n",
            "Requirement already satisfied: smmap<6,>=3.0.1 in /usr/local/lib/python3.11/dist-packages (from gitdb<5,>=4.0.1->gitpython!=3.1.19,<4,>=3.0.7->streamlit) (5.0.2)\n",
            "Requirement already satisfied: MarkupSafe>=2.0 in /usr/local/lib/python3.11/dist-packages (from jinja2->altair<6,>=4.0->streamlit) (3.0.2)\n",
            "Requirement already satisfied: attrs>=22.2.0 in /usr/local/lib/python3.11/dist-packages (from jsonschema>=3.0->altair<6,>=4.0->streamlit) (25.3.0)\n",
            "Requirement already satisfied: jsonschema-specifications>=2023.03.6 in /usr/local/lib/python3.11/dist-packages (from jsonschema>=3.0->altair<6,>=4.0->streamlit) (2024.10.1)\n",
            "Requirement already satisfied: referencing>=0.28.4 in /usr/local/lib/python3.11/dist-packages (from jsonschema>=3.0->altair<6,>=4.0->streamlit) (0.36.2)\n",
            "Requirement already satisfied: rpds-py>=0.7.1 in /usr/local/lib/python3.11/dist-packages (from jsonschema>=3.0->altair<6,>=4.0->streamlit) (0.23.1)\n",
            "Requirement already satisfied: six>=1.5 in /usr/local/lib/python3.11/dist-packages (from python-dateutil>=2.8.2->pandas<3,>=1.4.0->streamlit) (1.17.0)\n"
          ]
        }
      ]
    },
    {
      "cell_type": "code",
      "source": [
        "from pyngrok import ngrok\n",
        "ngrok.set_auth_token(\"2uiIeTJapGQhA2srFPQgGUYAUY1_4BtuzghGomXFnxutF9UV9\")\n"
      ],
      "metadata": {
        "id": "k2mKHKYST4iv"
      },
      "execution_count": 8,
      "outputs": []
    },
    {
      "cell_type": "code",
      "source": [
        "tunnels = ngrok.get_tunnels()\n",
        "for tunnel in tunnels:\n",
        "    print(tunnel)\n"
      ],
      "metadata": {
        "colab": {
          "base_uri": "https://localhost:8080/"
        },
        "id": "Uf5DGBIvUB1w",
        "outputId": "6f8b60e1-4a39-43a0-c160-56c861619ded"
      },
      "execution_count": 59,
      "outputs": [
        {
          "output_type": "stream",
          "name": "stdout",
          "text": [
            "NgrokTunnel: \"https://9cce-34-86-46-152.ngrok-free.app\" -> \"http://localhost:8501\"\n",
            "NgrokTunnel: \"https://f161-34-86-46-152.ngrok-free.app\" -> \"http://localhost:8501\"\n",
            "NgrokTunnel: \"https://70a3-34-86-46-152.ngrok-free.app\" -> \"http://localhost:8501\"\n"
          ]
        }
      ]
    },
    {
      "cell_type": "code",
      "source": [
        "# Kill all active tunnels\n",
        "ngrok.kill()"
      ],
      "metadata": {
        "id": "btv43r4vSHBZ"
      },
      "execution_count": 60,
      "outputs": []
    },
    {
      "cell_type": "code",
      "source": [
        "!pkill -f ngrok\n"
      ],
      "metadata": {
        "id": "5URv403FbQpc"
      },
      "execution_count": 61,
      "outputs": []
    },
    {
      "cell_type": "code",
      "source": [
        "!ngrok config add-authtoken \"2uiIeTJapGQhA2srFPQgGUYAUY1_4BtuzghGomXFnxutF9UV9\"\n"
      ],
      "metadata": {
        "colab": {
          "base_uri": "https://localhost:8080/"
        },
        "id": "O2lHE2h7bRyU",
        "outputId": "598bf540-3e73-47e6-c95c-51920fa46660"
      },
      "execution_count": 62,
      "outputs": [
        {
          "output_type": "stream",
          "name": "stdout",
          "text": [
            "Authtoken saved to configuration file: /root/.config/ngrok/ngrok.yml\n"
          ]
        }
      ]
    },
    {
      "cell_type": "code",
      "source": [
        "%%writefile app.py\n",
        "import streamlit as st\n",
        "import pandas as pd\n",
        "\n",
        "# Load AWS pricing data\n",
        "csv_file = \"aws_pricing_filtered.csv\"  # Ensure this file is in the same directory\n",
        "df = pd.read_csv(csv_file)\n",
        "\n",
        "# Data Cleaning\n",
        "df[\"vcpu\"] = pd.to_numeric(df[\"vcpu\"], errors=\"coerce\")  # Convert vCPU column to numeric\n",
        "df[\"memory\"] = df[\"memory\"].str.replace(\" GiB\", \"\").astype(float)  # Remove \" GiB\" and convert to numeric\n",
        "\n",
        "# Filter for Malaysia region (ap-southeast-5)\n",
        "filtered_df = df[df[\"regionCode\"] == \"ap-southeast-5\"]\n",
        "\n",
        "# Streamlit UI settings\n",
        "st.set_page_config(page_title=\"AWS Instance Recommendation\", layout=\"wide\")\n",
        "\n",
        "# Header Update\n",
        "st.markdown(\n",
        "    \"\"\"\n",
        "    <style>\n",
        "    .header-title {\n",
        "        font-size: 2.5em;\n",
        "        font-weight: bold;\n",
        "        color: black;\n",
        "        text-align: center;\n",
        "    }\n",
        "    .gradient-blue {\n",
        "        color: #007BFF;\n",
        "    }\n",
        "    .container {\n",
        "        background-color: #F8F9FA;\n",
        "        padding: 20px;\n",
        "        border-radius: 10px;\n",
        "        box-shadow: 0 2px 10px rgba(0, 0, 0, 0.1);\n",
        "    }\n",
        "    .filter-label {\n",
        "        font-weight: bold;\n",
        "        font-size: 1.2em;\n",
        "        color: black;\n",
        "    }\n",
        "    .table-header {\n",
        "        font-size: 1.3em;\n",
        "        font-weight: bold;\n",
        "        color: black;\n",
        "    }\n",
        "    </style>\n",
        "    <h1 class=\"header-title\">\n",
        "        AWS Instance Recommendation\n",
        "    </h1>\n",
        "    \"\"\",\n",
        "    unsafe_allow_html=True\n",
        ")\n",
        "\n",
        "# Filter section\n",
        "st.markdown('<div class=\"container\">', unsafe_allow_html=True)\n",
        "st.subheader(\"Filter Options\")\n",
        "\n",
        "# Dropdown for Cloud Provider\n",
        "selected_provider = st.selectbox(\"Cloud Provider\", [\"AWS\"], index=0)\n",
        "\n",
        "# Extract unique operating systems dynamically and add \"Any\" option\n",
        "available_os = [\"Any\"] + filtered_df[\"operatingSystem\"].dropna().unique().tolist()\n",
        "\n",
        "# Radio buttons for OS (Dynamic based on dataset)\n",
        "selected_os = st.radio(\"Operating System\", available_os)\n",
        "\n",
        "# Dropdown for scaling CPU cores, with \"Any\" as an option\n",
        "selected_vcpu = st.selectbox(\n",
        "    \"Scale CPU Cores (vCPU)\",\n",
        "    options=[\"Any\"] + [i for i in range(1, 65)]  # Add \"Any\" option\n",
        ")\n",
        "\n",
        "# Dropdown for scaling RAM, with \"Any\" as an option\n",
        "selected_ram = st.selectbox(\n",
        "    \"Scale RAM (GiB)\",\n",
        "    options=[\"Any\"] + [i * 0.5 for i in range(1, 513)]  # Add \"Any\" option\n",
        ")\n",
        "\n",
        "# Location selection\n",
        "location = st.text_input(\"Location\", \"AP Southeast\")\n",
        "\n",
        "st.markdown(\"</div>\", unsafe_allow_html=True)\n",
        "\n",
        "# Filter instances based on user input\n",
        "if selected_vcpu == \"Any\":\n",
        "    vcpu_filter = filtered_df[\"vcpu\"] >= 0  # Select all vCPU values\n",
        "else:\n",
        "    vcpu_filter = filtered_df[\"vcpu\"] >= int(selected_vcpu)\n",
        "\n",
        "if selected_ram == \"Any\":\n",
        "    ram_filter = filtered_df[\"memory\"] >= 0  # Select all memory values\n",
        "else:\n",
        "    ram_filter = filtered_df[\"memory\"] >= float(selected_ram)\n",
        "\n",
        "if selected_os == \"Any\":\n",
        "    os_filter = filtered_df[\"operatingSystem\"].notnull()  # Include all OS\n",
        "else:\n",
        "    os_filter = filtered_df[\"operatingSystem\"] == selected_os\n",
        "\n",
        "filtered_instances = filtered_df[\n",
        "    vcpu_filter &\n",
        "    ram_filter &\n",
        "    os_filter &\n",
        "    (filtered_df[\"marketoption\"] == \"OnDemand\")  # Filter for \"OnDemand\" pricing\n",
        "]\n",
        "\n",
        "# Display results in a table\n",
        "if not filtered_instances.empty:\n",
        "    st.write(f\"### Matching Instances: {len(filtered_instances)} Found\")\n",
        "    st.dataframe(\n",
        "        filtered_instances[[\"instanceType\", \"vcpu\", \"memory\", \"storage\", \"operatingSystem\", \"marketoption\"]].rename(\n",
        "            columns={\n",
        "                \"instanceType\": \"Instance Type\",\n",
        "                \"vcpu\": \"vCPU\",\n",
        "                \"memory\": \"Memory (GiB)\",\n",
        "                \"storage\": \"Storage\",\n",
        "                \"operatingSystem\": \"Operating System\",\n",
        "                \"marketoption\": \"Market Option (Pricing)\"\n",
        "            }\n",
        "        ),\n",
        "        use_container_width=True\n",
        "    )\n",
        "else:\n",
        "    st.warning(\"⚠️ No instances match your criteria. Try adjusting your filters.\")"
      ],
      "metadata": {
        "colab": {
          "base_uri": "https://localhost:8080/"
        },
        "id": "kMWHZqFCYYga",
        "outputId": "4af50dd7-60e6-4719-9375-0edde05f5782"
      },
      "execution_count": 63,
      "outputs": [
        {
          "output_type": "stream",
          "name": "stdout",
          "text": [
            "Overwriting app.py\n"
          ]
        }
      ]
    },
    {
      "cell_type": "code",
      "source": [
        "from pyngrok import ngrok\n",
        "\n",
        "# Set ngrok authtoken\n",
        "ngrok.set_auth_token(\"2uiIeTJapGQhA2srFPQgGUYAUY1_4BtuzghGomXFnxutF9UV9\")\n",
        "\n",
        "# Start Streamlit app\n",
        "import os\n",
        "os.system(\"streamlit run app.py &>/dev/null&\")\n",
        "\n",
        "# Explicitly specify the port for ngrok\n",
        "public_url = ngrok.connect(addr=8501, proto=\"http\")\n",
        "print(\"Streamlit app is live at:\", public_url)"
      ],
      "metadata": {
        "colab": {
          "base_uri": "https://localhost:8080/"
        },
        "id": "Ya_H0X5rFfBh",
        "outputId": "ae63536f-b070-4ed2-b0ce-f96027b4fd48"
      },
      "execution_count": 64,
      "outputs": [
        {
          "output_type": "stream",
          "name": "stdout",
          "text": [
            "Streamlit app is live at: NgrokTunnel: \"https://ab67-34-86-46-152.ngrok-free.app\" -> \"http://localhost:8501\"\n"
          ]
        }
      ]
    }
  ]
}